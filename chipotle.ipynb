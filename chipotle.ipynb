{
 "cells": [
  {
   "cell_type": "markdown",
   "metadata": {},
   "source": [
    "<img src=\"http://imgur.com/1ZcRyrc.png\" style=\"float: left; margin: 20px; height: 55px\">\n",
    "\n",
    "# Project 2: Analyzing Chipotle Data\n",
    "\n",
    "_Author: Joseph Nelson (DC)_\n",
    "\n",
    "---"
   ]
  },
  {
   "cell_type": "markdown",
   "metadata": {},
   "source": [
    "For Project 2, you will complete a series of exercises exploring [order data from Chipotle](https://github.com/TheUpshot/chipotle), compliments of _The New York Times'_ \"The Upshot.\"\n",
    "\n",
    "For these exercises, you will conduct basic exploratory data analysis (Pandas not required) to understand the essentials of Chipotle's order data: how many orders are being made, the average price per order, how many different ingredients are used, etc. These allow you to practice business analysis skills while also becoming comfortable with Python."
   ]
  },
  {
   "cell_type": "markdown",
   "metadata": {},
   "source": [
    "---\n",
    "\n",
    "## Basic Level"
   ]
  },
  {
   "cell_type": "markdown",
   "metadata": {},
   "source": [
    "### Part 1: Read in the file with `csv.reader()` and store it in an object called `file_nested_list`.\n",
    "\n",
    "Hint: This is a TSV (tab-separated value) file, and `csv.reader()` needs to be told [how to handle it](https://docs.python.org/2/library/csv.html)."
   ]
  },
  {
   "cell_type": "code",
   "execution_count": 2,
   "metadata": {},
   "outputs": [],
   "source": [
    "import csv\n",
    "from collections import namedtuple   # Convenient to store the data rows\n",
    "\n",
    "DATA_FILE = './data/chipotle.tsv'\n",
    "\n",
    "data=open(DATA_FILE, 'r')\n",
    "dt=csv.reader(data, delimiter='\\t')  # indicate that it's a TSV file\n",
    "\n",
    "file_nested_list=[]\n",
    "for row in dt:  \n",
    "    file_nested_list.append(row)\n"
   ]
  },
  {
   "cell_type": "markdown",
   "metadata": {},
   "source": [
    "### Part 2: Separate `file_nested_list` into the `header` and the `data`.\n"
   ]
  },
  {
   "cell_type": "code",
   "execution_count": 3,
   "metadata": {},
   "outputs": [],
   "source": [
    "header = file_nested_list[0]"
   ]
  },
  {
   "cell_type": "code",
   "execution_count": 4,
   "metadata": {},
   "outputs": [],
   "source": [
    "data = file_nested_list[1:]"
   ]
  },
  {
   "cell_type": "markdown",
   "metadata": {},
   "source": [
    "---\n",
    "\n",
    "## Intermediate Level"
   ]
  },
  {
   "cell_type": "markdown",
   "metadata": {},
   "source": [
    "### Part 3: Calculate the average price of an order.\n",
    "\n",
    "Hint: Examine the data to see if the `quantity` column is relevant to this calculation.\n",
    "\n",
    "Hint: Think carefully about the simplest way to do this!"
   ]
  },
  {
   "cell_type": "code",
   "execution_count": 6,
   "metadata": {},
   "outputs": [],
   "source": [
    "sorted_data = sorted(data, key=lambda x: int(x[0]))"
   ]
  },
  {
   "cell_type": "code",
   "execution_count": 16,
   "metadata": {},
   "outputs": [
    {
     "name": "stdout",
     "output_type": "stream",
     "text": [
      "Average price per order: $18.81\n"
     ]
    }
   ],
   "source": [
    "from re import sub\n",
    "from decimal import Decimal\n",
    "\n",
    "average_price = 0\n",
    "total_order = 0\n",
    "total_price = 0\n",
    "items_per_order=0\n",
    "order_price=0\n",
    "row=0\n",
    "prev_order_id=''\n",
    "\n",
    "for order in sorted_data:\n",
    "    row += 1\n",
    "    if order[0] != prev_order_id:\n",
    "        if row > 1:\n",
    "            total_order += 1\n",
    "            total_price += order_price  # include previous order price into total_price\n",
    "            \n",
    "            order_price = 0  # re-initialise values per order \n",
    "            items_per_order = 0\n",
    "            \n",
    "    item_price = round(Decimal(sub(r'[^\\d\\-.]', '', order[4])),2)  # extract the decimal value price of each item\n",
    "    order_price += item_price  # accumulate price per order... quantity not relevant as item_price incorporates the quantity\n",
    "    prev_order_id = order[0]  # save order_id for comparison of each row\n",
    "\n",
    "if row != 0:\n",
    "    # include previous order price into total_price\n",
    "    total_order += 1\n",
    "    total_price += order_price\n",
    "    average_price = round(total_price / total_order,2)\n",
    "    \n",
    "    print ('Average price per order: $' + str(average_price))"
   ]
  },
  {
   "cell_type": "markdown",
   "metadata": {},
   "source": [
    "### Part 4: Create a list (or set) named `unique_sodas` containing all of unique sodas and soft drinks that Chipotle sells.\n",
    "\n",
    "Note: Just look for `'Canned Soda'` and `'Canned Soft Drink'`, and ignore other drinks like `'Izze'`."
   ]
  },
  {
   "cell_type": "code",
   "execution_count": 8,
   "metadata": {},
   "outputs": [
    {
     "data": {
      "text/plain": [
       "{'[Coca Cola]',\n",
       " '[Coke]',\n",
       " '[Diet Coke]',\n",
       " '[Diet Dr. Pepper]',\n",
       " '[Dr. Pepper]',\n",
       " '[Lemonade]',\n",
       " '[Mountain Dew]',\n",
       " '[Nestea]',\n",
       " '[Sprite]'}"
      ]
     },
     "execution_count": 8,
     "metadata": {},
     "output_type": "execute_result"
    }
   ],
   "source": [
    "unique_sodas = set([])\n",
    "\n",
    "for order in sorted_data:\n",
    "    if order[2] in ('Canned Soda', 'Canned Soft Drink'):\n",
    "        unique_sodas.add(order[3])\n",
    "        \n",
    "unique_sodas"
   ]
  },
  {
   "cell_type": "markdown",
   "metadata": {},
   "source": [
    "---\n",
    "\n",
    "## Advanced Level\n"
   ]
  },
  {
   "cell_type": "markdown",
   "metadata": {},
   "source": [
    "### Part 5: Calculate the average number of toppings per burrito.\n",
    "\n",
    "Note: Let's ignore the `quantity` column to simplify this task.\n",
    "\n",
    "Hint: Think carefully about the easiest way to count the number of toppings!\n"
   ]
  },
  {
   "cell_type": "code",
   "execution_count": 9,
   "metadata": {},
   "outputs": [
    {
     "name": "stdout",
     "output_type": "stream",
     "text": [
      "Average number of toppings per burito :  7\n"
     ]
    }
   ],
   "source": [
    "# Initialise number of Burrito orders and the total toppings\n",
    "burrito_count = 0\n",
    "toppings_num = 0\n",
    "\n",
    "for order in sorted_data:\n",
    "    if 'Burrito' in order[2]:    # Search for the word Burrito in the item_name, assuming the case used is exactly this\n",
    "        burrito_count += 1\n",
    "        toppings_num += len(data[9][3].split(','))   #  Split the choice_description string into a list, based on comma\n",
    "\n",
    "print('Average number of toppings per burito : ', int(toppings_num/burrito_count))\n"
   ]
  },
  {
   "cell_type": "markdown",
   "metadata": {},
   "source": [
    "### Part 6: Create a dictionary. Let the keys represent chip orders and the values represent the total number of orders.\n",
    "\n",
    "Expected output: `{'Chips and Roasted Chili-Corn Salsa': 18, ... }`\n",
    "\n",
    "Note: Please take the `quantity` column into account!\n",
    "\n",
    "Optional: Learn how to use `.defaultdict()` to simplify your code."
   ]
  },
  {
   "cell_type": "code",
   "execution_count": 12,
   "metadata": {},
   "outputs": [],
   "source": [
    "sorted_by_item_name = sorted(data, key=lambda x: x[2])"
   ]
  },
  {
   "cell_type": "code",
   "execution_count": 15,
   "metadata": {},
   "outputs": [
    {
     "data": {
      "text/plain": [
       "defaultdict(list,\n",
       "            {'Chips': [230],\n",
       "             'Chips and Fresh Tomato Salsa': [130],\n",
       "             'Chips and Guacamole': [506],\n",
       "             'Chips and Mild Fresh Tomato Salsa': [1],\n",
       "             'Chips and Roasted Chili Corn Salsa': [23],\n",
       "             'Chips and Roasted Chili-Corn Salsa': [18],\n",
       "             'Chips and Tomatillo Green Chili Salsa': [45],\n",
       "             'Chips and Tomatillo Red Chili Salsa': [50],\n",
       "             'Chips and Tomatillo-Green Chili Salsa': [33],\n",
       "             'Chips and Tomatillo-Red Chili Salsa': [25],\n",
       "             'Side of Chips': [110]})"
      ]
     },
     "execution_count": 15,
     "metadata": {},
     "output_type": "execute_result"
    }
   ],
   "source": [
    "# Initialise variables\n",
    "from collections import defaultdict\n",
    "dict_chips = defaultdict(list)\n",
    "chips_count = 0\n",
    "chips_items = 0\n",
    "prev_item_name=''\n",
    "\n",
    "for order in sorted_by_item_name:\n",
    "    if 'Chip' in order[2]:\n",
    "        chips_items += 1\n",
    "        if (order[2] != prev_item_name) and (chips_items > 1):\n",
    "            dict_chips[prev_item_name].append(chips_count)  # append entry into dictionary\n",
    "            chips_count = 0\n",
    "            \n",
    "        chips_count += int(order[1])  # increment total order by the quantity\n",
    "        prev_item_name = order[2]  # save item_name for comparison of each row\n",
    "\n",
    "if chips_items != 0 and chips_count != 0:  # if the latest entry have not been included yet\n",
    "    dict_chips[prev_item_name].append(chips_count)  # append entry into dictionary\n",
    "    \n",
    "dict_chips\n"
   ]
  },
  {
   "cell_type": "markdown",
   "metadata": {},
   "source": [
    "---\n",
    "\n",
    "## Bonus: Craft a problem statement about this data that interests you, and then answer it!\n"
   ]
  },
  {
   "cell_type": "code",
   "execution_count": null,
   "metadata": {
    "collapsed": true
   },
   "outputs": [],
   "source": []
  },
  {
   "cell_type": "code",
   "execution_count": null,
   "metadata": {
    "collapsed": true
   },
   "outputs": [],
   "source": []
  },
  {
   "cell_type": "code",
   "execution_count": null,
   "metadata": {
    "collapsed": true
   },
   "outputs": [],
   "source": []
  },
  {
   "cell_type": "code",
   "execution_count": null,
   "metadata": {
    "collapsed": true
   },
   "outputs": [],
   "source": []
  }
 ],
 "metadata": {
  "anaconda-cloud": {},
  "kernelspec": {
   "display_name": "Python 3",
   "language": "python",
   "name": "python3"
  },
  "language_info": {
   "codemirror_mode": {
    "name": "ipython",
    "version": 3
   },
   "file_extension": ".py",
   "mimetype": "text/x-python",
   "name": "python",
   "nbconvert_exporter": "python",
   "pygments_lexer": "ipython3",
   "version": "3.6.4"
  }
 },
 "nbformat": 4,
 "nbformat_minor": 2
}
